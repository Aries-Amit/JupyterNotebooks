{
 "cells": [
  {
   "cell_type": "code",
   "execution_count": null,
   "id": "29ab41b4",
   "metadata": {},
   "outputs": [],
   "source": [
    "import numpy as np \n",
    "import pandas as pd\n",
    "import matplotlib.pyplot as plt\n",
    "import seaborn as sns\n",
    "\n",
    "from sklearn.preprocessing import MinMaxScaler, StandardScaler\n",
    "from sklearn.model_selection import train_test_split\n",
    "\n",
    "from sklearn.tree import DecisionTreeClassifier\n",
    "from sklearn.ensemble import RandomForestClassifier\n",
    "from sklearn.svm import SVC\n",
    "from sklearn.linear_model import LogisticRegression\n",
    "\n",
    "from sklearn.model_selection import cross_val_score, KFold\n",
    "\n",
    "from sklearn.metrics import accuracy_score, classification_report\n",
    "\n",
    "import tensorflow as tf\n",
    "import keras\n",
    "from keras.models import Sequential\n",
    "\n",
    "import joblib as jb"
   ]
  },
  {
   "cell_type": "markdown",
   "id": "362f3bca",
   "metadata": {},
   "source": [
    "dehuiwe"
   ]
  },
  {
   "cell_type": "code",
   "execution_count": 2,
   "id": "c1a9fc11",
   "metadata": {},
   "outputs": [
    {
     "data": {
      "text/html": [
       "<div>\n",
       "<style scoped>\n",
       "    .dataframe tbody tr th:only-of-type {\n",
       "        vertical-align: middle;\n",
       "    }\n",
       "\n",
       "    .dataframe tbody tr th {\n",
       "        vertical-align: top;\n",
       "    }\n",
       "\n",
       "    .dataframe thead th {\n",
       "        text-align: right;\n",
       "    }\n",
       "</style>\n",
       "<table border=\"1\" class=\"dataframe\">\n",
       "  <thead>\n",
       "    <tr style=\"text-align: right;\">\n",
       "      <th></th>\n",
       "      <th>Pregnancies</th>\n",
       "      <th>Glucose</th>\n",
       "      <th>BloodPressure</th>\n",
       "      <th>SkinThickness</th>\n",
       "      <th>Insulin</th>\n",
       "      <th>BMI</th>\n",
       "      <th>DiabetesPedigreeFunction</th>\n",
       "      <th>Age</th>\n",
       "      <th>Outcome</th>\n",
       "    </tr>\n",
       "  </thead>\n",
       "  <tbody>\n",
       "    <tr>\n",
       "      <th>0</th>\n",
       "      <td>6</td>\n",
       "      <td>148</td>\n",
       "      <td>72</td>\n",
       "      <td>35</td>\n",
       "      <td>0</td>\n",
       "      <td>33.6</td>\n",
       "      <td>0.627</td>\n",
       "      <td>50</td>\n",
       "      <td>1</td>\n",
       "    </tr>\n",
       "    <tr>\n",
       "      <th>1</th>\n",
       "      <td>1</td>\n",
       "      <td>85</td>\n",
       "      <td>66</td>\n",
       "      <td>29</td>\n",
       "      <td>0</td>\n",
       "      <td>26.6</td>\n",
       "      <td>0.351</td>\n",
       "      <td>31</td>\n",
       "      <td>0</td>\n",
       "    </tr>\n",
       "    <tr>\n",
       "      <th>2</th>\n",
       "      <td>8</td>\n",
       "      <td>183</td>\n",
       "      <td>64</td>\n",
       "      <td>0</td>\n",
       "      <td>0</td>\n",
       "      <td>23.3</td>\n",
       "      <td>0.672</td>\n",
       "      <td>32</td>\n",
       "      <td>1</td>\n",
       "    </tr>\n",
       "    <tr>\n",
       "      <th>3</th>\n",
       "      <td>1</td>\n",
       "      <td>89</td>\n",
       "      <td>66</td>\n",
       "      <td>23</td>\n",
       "      <td>94</td>\n",
       "      <td>28.1</td>\n",
       "      <td>0.167</td>\n",
       "      <td>21</td>\n",
       "      <td>0</td>\n",
       "    </tr>\n",
       "    <tr>\n",
       "      <th>4</th>\n",
       "      <td>0</td>\n",
       "      <td>137</td>\n",
       "      <td>40</td>\n",
       "      <td>35</td>\n",
       "      <td>168</td>\n",
       "      <td>43.1</td>\n",
       "      <td>2.288</td>\n",
       "      <td>33</td>\n",
       "      <td>1</td>\n",
       "    </tr>\n",
       "    <tr>\n",
       "      <th>5</th>\n",
       "      <td>5</td>\n",
       "      <td>116</td>\n",
       "      <td>74</td>\n",
       "      <td>0</td>\n",
       "      <td>0</td>\n",
       "      <td>25.6</td>\n",
       "      <td>0.201</td>\n",
       "      <td>30</td>\n",
       "      <td>0</td>\n",
       "    </tr>\n",
       "    <tr>\n",
       "      <th>6</th>\n",
       "      <td>3</td>\n",
       "      <td>78</td>\n",
       "      <td>50</td>\n",
       "      <td>32</td>\n",
       "      <td>88</td>\n",
       "      <td>31.0</td>\n",
       "      <td>0.248</td>\n",
       "      <td>26</td>\n",
       "      <td>1</td>\n",
       "    </tr>\n",
       "    <tr>\n",
       "      <th>7</th>\n",
       "      <td>10</td>\n",
       "      <td>115</td>\n",
       "      <td>0</td>\n",
       "      <td>0</td>\n",
       "      <td>0</td>\n",
       "      <td>35.3</td>\n",
       "      <td>0.134</td>\n",
       "      <td>29</td>\n",
       "      <td>0</td>\n",
       "    </tr>\n",
       "    <tr>\n",
       "      <th>8</th>\n",
       "      <td>2</td>\n",
       "      <td>197</td>\n",
       "      <td>70</td>\n",
       "      <td>45</td>\n",
       "      <td>543</td>\n",
       "      <td>30.5</td>\n",
       "      <td>0.158</td>\n",
       "      <td>53</td>\n",
       "      <td>1</td>\n",
       "    </tr>\n",
       "    <tr>\n",
       "      <th>9</th>\n",
       "      <td>8</td>\n",
       "      <td>125</td>\n",
       "      <td>96</td>\n",
       "      <td>0</td>\n",
       "      <td>0</td>\n",
       "      <td>0.0</td>\n",
       "      <td>0.232</td>\n",
       "      <td>54</td>\n",
       "      <td>1</td>\n",
       "    </tr>\n",
       "  </tbody>\n",
       "</table>\n",
       "</div>"
      ],
      "text/plain": [
       "   Pregnancies  Glucose  BloodPressure  SkinThickness  Insulin   BMI  \\\n",
       "0            6      148             72             35        0  33.6   \n",
       "1            1       85             66             29        0  26.6   \n",
       "2            8      183             64              0        0  23.3   \n",
       "3            1       89             66             23       94  28.1   \n",
       "4            0      137             40             35      168  43.1   \n",
       "5            5      116             74              0        0  25.6   \n",
       "6            3       78             50             32       88  31.0   \n",
       "7           10      115              0              0        0  35.3   \n",
       "8            2      197             70             45      543  30.5   \n",
       "9            8      125             96              0        0   0.0   \n",
       "\n",
       "   DiabetesPedigreeFunction  Age  Outcome  \n",
       "0                     0.627   50        1  \n",
       "1                     0.351   31        0  \n",
       "2                     0.672   32        1  \n",
       "3                     0.167   21        0  \n",
       "4                     2.288   33        1  \n",
       "5                     0.201   30        0  \n",
       "6                     0.248   26        1  \n",
       "7                     0.134   29        0  \n",
       "8                     0.158   53        1  \n",
       "9                     0.232   54        1  "
      ]
     },
     "execution_count": 2,
     "metadata": {},
     "output_type": "execute_result"
    }
   ],
   "source": [
    "data = pd.read_csv(r\"C:\\Users\\amit9\\Downloads\\Project 2 - Diabetes Data-20230929T083420Z-001\\Project 2 - Diabetes Data\\Project 2 MeriSKILL\\diabetes.csv\")\n",
    "data.head(10)"
   ]
  },
  {
   "cell_type": "markdown",
   "id": "f2888ff9",
   "metadata": {},
   "source": [
    "# EDA"
   ]
  },
  {
   "cell_type": "code",
   "execution_count": 3,
   "id": "1729b836",
   "metadata": {},
   "outputs": [
    {
     "data": {
      "text/plain": [
       "Pregnancies                 0\n",
       "Glucose                     0\n",
       "BloodPressure               0\n",
       "SkinThickness               0\n",
       "Insulin                     0\n",
       "BMI                         0\n",
       "DiabetesPedigreeFunction    0\n",
       "Age                         0\n",
       "Outcome                     0\n",
       "dtype: int64"
      ]
     },
     "execution_count": 3,
     "metadata": {},
     "output_type": "execute_result"
    }
   ],
   "source": [
    "data.isnull().sum()"
   ]
  },
  {
   "cell_type": "code",
   "execution_count": 4,
   "id": "dc9707aa",
   "metadata": {},
   "outputs": [
    {
     "name": "stdout",
     "output_type": "stream",
     "text": [
      "Number of duplicate entries in the data : 0\n"
     ]
    }
   ],
   "source": [
    "print(f\"Number of duplicate entries in the data : {data.duplicated().sum()}\")"
   ]
  },
  {
   "cell_type": "code",
   "execution_count": 5,
   "id": "2150d8e5",
   "metadata": {},
   "outputs": [
    {
     "name": "stdout",
     "output_type": "stream",
     "text": [
      "<class 'pandas.core.frame.DataFrame'>\n",
      "RangeIndex: 768 entries, 0 to 767\n",
      "Data columns (total 9 columns):\n",
      " #   Column                    Non-Null Count  Dtype  \n",
      "---  ------                    --------------  -----  \n",
      " 0   Pregnancies               768 non-null    int64  \n",
      " 1   Glucose                   768 non-null    int64  \n",
      " 2   BloodPressure             768 non-null    int64  \n",
      " 3   SkinThickness             768 non-null    int64  \n",
      " 4   Insulin                   768 non-null    int64  \n",
      " 5   BMI                       768 non-null    float64\n",
      " 6   DiabetesPedigreeFunction  768 non-null    float64\n",
      " 7   Age                       768 non-null    int64  \n",
      " 8   Outcome                   768 non-null    int64  \n",
      "dtypes: float64(2), int64(7)\n",
      "memory usage: 54.1 KB\n"
     ]
    }
   ],
   "source": [
    "data.info()"
   ]
  },
  {
   "cell_type": "markdown",
   "id": "f25b535d",
   "metadata": {},
   "source": [
    "# Exploring the Data"
   ]
  },
  {
   "cell_type": "code",
   "execution_count": 6,
   "id": "86f5a52a",
   "metadata": {},
   "outputs": [
    {
     "data": {
      "text/plain": [
       "(768, 9)"
      ]
     },
     "execution_count": 6,
     "metadata": {},
     "output_type": "execute_result"
    }
   ],
   "source": [
    "data.shape"
   ]
  },
  {
   "cell_type": "code",
   "execution_count": 7,
   "id": "67876ef5",
   "metadata": {},
   "outputs": [
    {
     "data": {
      "text/plain": [
       "Pregnancies                  17\n",
       "Glucose                     136\n",
       "BloodPressure                47\n",
       "SkinThickness                51\n",
       "Insulin                     186\n",
       "BMI                         248\n",
       "DiabetesPedigreeFunction    517\n",
       "Age                          52\n",
       "Outcome                       2\n",
       "dtype: int64"
      ]
     },
     "execution_count": 7,
     "metadata": {},
     "output_type": "execute_result"
    }
   ],
   "source": [
    "data.nunique()"
   ]
  },
  {
   "cell_type": "code",
   "execution_count": 8,
   "id": "260e7b2e",
   "metadata": {},
   "outputs": [
    {
     "data": {
      "text/html": [
       "<div>\n",
       "<style scoped>\n",
       "    .dataframe tbody tr th:only-of-type {\n",
       "        vertical-align: middle;\n",
       "    }\n",
       "\n",
       "    .dataframe tbody tr th {\n",
       "        vertical-align: top;\n",
       "    }\n",
       "\n",
       "    .dataframe thead th {\n",
       "        text-align: right;\n",
       "    }\n",
       "</style>\n",
       "<table border=\"1\" class=\"dataframe\">\n",
       "  <thead>\n",
       "    <tr style=\"text-align: right;\">\n",
       "      <th></th>\n",
       "      <th>Pregnancies</th>\n",
       "      <th>Glucose</th>\n",
       "      <th>BloodPressure</th>\n",
       "      <th>SkinThickness</th>\n",
       "      <th>Insulin</th>\n",
       "      <th>BMI</th>\n",
       "      <th>DiabetesPedigreeFunction</th>\n",
       "      <th>Age</th>\n",
       "      <th>Outcome</th>\n",
       "    </tr>\n",
       "  </thead>\n",
       "  <tbody>\n",
       "    <tr>\n",
       "      <th>count</th>\n",
       "      <td>768.000000</td>\n",
       "      <td>768.000000</td>\n",
       "      <td>768.000000</td>\n",
       "      <td>768.000000</td>\n",
       "      <td>768.000000</td>\n",
       "      <td>768.000000</td>\n",
       "      <td>768.000000</td>\n",
       "      <td>768.000000</td>\n",
       "      <td>768.000000</td>\n",
       "    </tr>\n",
       "    <tr>\n",
       "      <th>mean</th>\n",
       "      <td>3.845052</td>\n",
       "      <td>120.894531</td>\n",
       "      <td>69.105469</td>\n",
       "      <td>20.536458</td>\n",
       "      <td>79.799479</td>\n",
       "      <td>31.992578</td>\n",
       "      <td>0.471876</td>\n",
       "      <td>33.240885</td>\n",
       "      <td>0.348958</td>\n",
       "    </tr>\n",
       "    <tr>\n",
       "      <th>std</th>\n",
       "      <td>3.369578</td>\n",
       "      <td>31.972618</td>\n",
       "      <td>19.355807</td>\n",
       "      <td>15.952218</td>\n",
       "      <td>115.244002</td>\n",
       "      <td>7.884160</td>\n",
       "      <td>0.331329</td>\n",
       "      <td>11.760232</td>\n",
       "      <td>0.476951</td>\n",
       "    </tr>\n",
       "    <tr>\n",
       "      <th>min</th>\n",
       "      <td>0.000000</td>\n",
       "      <td>0.000000</td>\n",
       "      <td>0.000000</td>\n",
       "      <td>0.000000</td>\n",
       "      <td>0.000000</td>\n",
       "      <td>0.000000</td>\n",
       "      <td>0.078000</td>\n",
       "      <td>21.000000</td>\n",
       "      <td>0.000000</td>\n",
       "    </tr>\n",
       "    <tr>\n",
       "      <th>25%</th>\n",
       "      <td>1.000000</td>\n",
       "      <td>99.000000</td>\n",
       "      <td>62.000000</td>\n",
       "      <td>0.000000</td>\n",
       "      <td>0.000000</td>\n",
       "      <td>27.300000</td>\n",
       "      <td>0.243750</td>\n",
       "      <td>24.000000</td>\n",
       "      <td>0.000000</td>\n",
       "    </tr>\n",
       "    <tr>\n",
       "      <th>50%</th>\n",
       "      <td>3.000000</td>\n",
       "      <td>117.000000</td>\n",
       "      <td>72.000000</td>\n",
       "      <td>23.000000</td>\n",
       "      <td>30.500000</td>\n",
       "      <td>32.000000</td>\n",
       "      <td>0.372500</td>\n",
       "      <td>29.000000</td>\n",
       "      <td>0.000000</td>\n",
       "    </tr>\n",
       "    <tr>\n",
       "      <th>75%</th>\n",
       "      <td>6.000000</td>\n",
       "      <td>140.250000</td>\n",
       "      <td>80.000000</td>\n",
       "      <td>32.000000</td>\n",
       "      <td>127.250000</td>\n",
       "      <td>36.600000</td>\n",
       "      <td>0.626250</td>\n",
       "      <td>41.000000</td>\n",
       "      <td>1.000000</td>\n",
       "    </tr>\n",
       "    <tr>\n",
       "      <th>max</th>\n",
       "      <td>17.000000</td>\n",
       "      <td>199.000000</td>\n",
       "      <td>122.000000</td>\n",
       "      <td>99.000000</td>\n",
       "      <td>846.000000</td>\n",
       "      <td>67.100000</td>\n",
       "      <td>2.420000</td>\n",
       "      <td>81.000000</td>\n",
       "      <td>1.000000</td>\n",
       "    </tr>\n",
       "  </tbody>\n",
       "</table>\n",
       "</div>"
      ],
      "text/plain": [
       "       Pregnancies     Glucose  BloodPressure  SkinThickness     Insulin  \\\n",
       "count   768.000000  768.000000     768.000000     768.000000  768.000000   \n",
       "mean      3.845052  120.894531      69.105469      20.536458   79.799479   \n",
       "std       3.369578   31.972618      19.355807      15.952218  115.244002   \n",
       "min       0.000000    0.000000       0.000000       0.000000    0.000000   \n",
       "25%       1.000000   99.000000      62.000000       0.000000    0.000000   \n",
       "50%       3.000000  117.000000      72.000000      23.000000   30.500000   \n",
       "75%       6.000000  140.250000      80.000000      32.000000  127.250000   \n",
       "max      17.000000  199.000000     122.000000      99.000000  846.000000   \n",
       "\n",
       "              BMI  DiabetesPedigreeFunction         Age     Outcome  \n",
       "count  768.000000                768.000000  768.000000  768.000000  \n",
       "mean    31.992578                  0.471876   33.240885    0.348958  \n",
       "std      7.884160                  0.331329   11.760232    0.476951  \n",
       "min      0.000000                  0.078000   21.000000    0.000000  \n",
       "25%     27.300000                  0.243750   24.000000    0.000000  \n",
       "50%     32.000000                  0.372500   29.000000    0.000000  \n",
       "75%     36.600000                  0.626250   41.000000    1.000000  \n",
       "max     67.100000                  2.420000   81.000000    1.000000  "
      ]
     },
     "execution_count": 8,
     "metadata": {},
     "output_type": "execute_result"
    }
   ],
   "source": [
    "data.describe()"
   ]
  },
  {
   "cell_type": "markdown",
   "id": "4601fcb3",
   "metadata": {},
   "source": [
    "Some of the features present in the data have an mimimum value of 0 such as blood pressure, insulin, skin thickness etc. that cannot be zero in a real case scenario. So the best approch is to remove them."
   ]
  },
  {
   "cell_type": "code",
   "execution_count": 9,
   "id": "cc79794d",
   "metadata": {},
   "outputs": [],
   "source": [
    "for i in data.columns:\n",
    "    if i == \"Outcome\" or i == 'Pregnancies':\n",
    "        continue\n",
    "    else:\n",
    "        data[i].replace(0, np.nan, inplace = True)"
   ]
  },
  {
   "cell_type": "code",
   "execution_count": 10,
   "id": "3268ec7c",
   "metadata": {},
   "outputs": [
    {
     "data": {
      "text/plain": [
       "Pregnancies                   0\n",
       "Glucose                       5\n",
       "BloodPressure                35\n",
       "SkinThickness               227\n",
       "Insulin                     374\n",
       "BMI                          11\n",
       "DiabetesPedigreeFunction      0\n",
       "Age                           0\n",
       "Outcome                       0\n",
       "dtype: int64"
      ]
     },
     "execution_count": 10,
     "metadata": {},
     "output_type": "execute_result"
    }
   ],
   "source": [
    "data.isnull().sum()"
   ]
  },
  {
   "cell_type": "code",
   "execution_count": 11,
   "id": "287c4996",
   "metadata": {},
   "outputs": [
    {
     "name": "stdout",
     "output_type": "stream",
     "text": [
      "Distribution of data before removing null values: \n",
      "0    500\n",
      "1    268\n",
      "Name: Outcome, dtype: int64\n"
     ]
    }
   ],
   "source": [
    "print(f\"Distribution of data before removing null values: \\n{data['Outcome'].value_counts()}\")"
   ]
  },
  {
   "cell_type": "code",
   "execution_count": 12,
   "id": "02c123d1",
   "metadata": {},
   "outputs": [
    {
     "data": {
      "image/png": "[encoded data removed]",
      "text/plain": [
       "<Figure size 1000x700 with 9 Axes>"
      ]
     },
     "metadata": {},
     "output_type": "display_data"
    }
   ],
   "source": [
    "data.hist(figsize = (10, 7), grid = True)\n",
    "plt.title(\"Features Distribution\")\n",
    "plt.show()"
   ]
  },
  {
   "cell_type": "code",
   "execution_count": 13,
   "id": "0f143d44",
   "metadata": {},
   "outputs": [
    {
     "data": {
      "text/plain": [
       "<Axes: >"
      ]
     },
     "execution_count": 13,
     "metadata": {},
     "output_type": "execute_result"
    },
    {
     "data": {
      "image/png": "[encoded data removed]",
      "text/plain": [
       "<Figure size 1200x700 with 1 Axes>"
      ]
     },
     "metadata": {},
     "output_type": "display_data"
    }
   ],
   "source": [
    "df = data[['Pregnancies', 'Glucose', 'BloodPressure', 'SkinThickness', 'Insulin',\n",
    "       'BMI', 'DiabetesPedigreeFunction', 'Age']]\n",
    "\n",
    "df.boxplot(figsize = (12, 7))"
   ]
  },
  {
   "cell_type": "markdown",
   "id": "cbd83660",
   "metadata": {},
   "source": [
    "Except one column \"Glucose\" all other columns contains outliers."
   ]
  },
  {
   "cell_type": "code",
   "execution_count": 14,
   "id": "20115216",
   "metadata": {},
   "outputs": [
    {
     "data": {
      "text/plain": [
       "Pregnancies                   3.0000\n",
       "Glucose                     117.0000\n",
       "BloodPressure                72.0000\n",
       "SkinThickness                29.0000\n",
       "Insulin                     125.0000\n",
       "BMI                          32.3000\n",
       "DiabetesPedigreeFunction      0.3725\n",
       "Age                          29.0000\n",
       "dtype: float64"
      ]
     },
     "execution_count": 14,
     "metadata": {},
     "output_type": "execute_result"
    }
   ],
   "source": [
    "df.median()"
   ]
  },
  {
   "cell_type": "code",
   "execution_count": 15,
   "id": "fb35a541",
   "metadata": {},
   "outputs": [
    {
     "data": {
      "text/plain": [
       "Pregnancies                   3.845052\n",
       "Glucose                     121.686763\n",
       "BloodPressure                72.405184\n",
       "SkinThickness                29.153420\n",
       "Insulin                     155.548223\n",
       "BMI                          32.457464\n",
       "DiabetesPedigreeFunction      0.471876\n",
       "Age                          33.240885\n",
       "dtype: float64"
      ]
     },
     "execution_count": 15,
     "metadata": {},
     "output_type": "execute_result"
    }
   ],
   "source": [
    "df.mean()"
   ]
  },
  {
   "cell_type": "code",
   "execution_count": 16,
   "id": "961e65b1",
   "metadata": {},
   "outputs": [],
   "source": [
    "data.fillna(df.median(), inplace = True)"
   ]
  },
  {
   "cell_type": "code",
   "execution_count": 17,
   "id": "b60de4dc",
   "metadata": {},
   "outputs": [
    {
     "data": {
      "text/plain": [
       "Pregnancies                 0\n",
       "Glucose                     0\n",
       "BloodPressure               0\n",
       "SkinThickness               0\n",
       "Insulin                     0\n",
       "BMI                         0\n",
       "DiabetesPedigreeFunction    0\n",
       "Age                         0\n",
       "Outcome                     0\n",
       "dtype: int64"
      ]
     },
     "execution_count": 17,
     "metadata": {},
     "output_type": "execute_result"
    }
   ],
   "source": [
    "data.isnull().sum()"
   ]
  },
  {
   "cell_type": "code",
   "execution_count": 18,
   "id": "70a27eb6",
   "metadata": {},
   "outputs": [
    {
     "data": {
      "text/html": [
       "<div>\n",
       "<style scoped>\n",
       "    .dataframe tbody tr th:only-of-type {\n",
       "        vertical-align: middle;\n",
       "    }\n",
       "\n",
       "    .dataframe tbody tr th {\n",
       "        vertical-align: top;\n",
       "    }\n",
       "\n",
       "    .dataframe thead th {\n",
       "        text-align: right;\n",
       "    }\n",
       "</style>\n",
       "<table border=\"1\" class=\"dataframe\">\n",
       "  <thead>\n",
       "    <tr style=\"text-align: right;\">\n",
       "      <th></th>\n",
       "      <th>Pregnancies</th>\n",
       "      <th>Glucose</th>\n",
       "      <th>BloodPressure</th>\n",
       "      <th>SkinThickness</th>\n",
       "      <th>Insulin</th>\n",
       "      <th>BMI</th>\n",
       "      <th>DiabetesPedigreeFunction</th>\n",
       "      <th>Age</th>\n",
       "      <th>Outcome</th>\n",
       "    </tr>\n",
       "  </thead>\n",
       "  <tbody>\n",
       "    <tr>\n",
       "      <th>Pregnancies</th>\n",
       "      <td>1.000000</td>\n",
       "      <td>0.128213</td>\n",
       "      <td>0.208615</td>\n",
       "      <td>0.081770</td>\n",
       "      <td>0.025047</td>\n",
       "      <td>0.021559</td>\n",
       "      <td>-0.033523</td>\n",
       "      <td>0.544341</td>\n",
       "      <td>0.221898</td>\n",
       "    </tr>\n",
       "    <tr>\n",
       "      <th>Glucose</th>\n",
       "      <td>0.128213</td>\n",
       "      <td>1.000000</td>\n",
       "      <td>0.218937</td>\n",
       "      <td>0.192615</td>\n",
       "      <td>0.419451</td>\n",
       "      <td>0.231049</td>\n",
       "      <td>0.137327</td>\n",
       "      <td>0.266909</td>\n",
       "      <td>0.492782</td>\n",
       "    </tr>\n",
       "    <tr>\n",
       "      <th>BloodPressure</th>\n",
       "      <td>0.208615</td>\n",
       "      <td>0.218937</td>\n",
       "      <td>1.000000</td>\n",
       "      <td>0.191892</td>\n",
       "      <td>0.045363</td>\n",
       "      <td>0.281257</td>\n",
       "      <td>-0.002378</td>\n",
       "      <td>0.324915</td>\n",
       "      <td>0.165723</td>\n",
       "    </tr>\n",
       "    <tr>\n",
       "      <th>SkinThickness</th>\n",
       "      <td>0.081770</td>\n",
       "      <td>0.192615</td>\n",
       "      <td>0.191892</td>\n",
       "      <td>1.000000</td>\n",
       "      <td>0.155610</td>\n",
       "      <td>0.543205</td>\n",
       "      <td>0.102188</td>\n",
       "      <td>0.126107</td>\n",
       "      <td>0.214873</td>\n",
       "    </tr>\n",
       "    <tr>\n",
       "      <th>Insulin</th>\n",
       "      <td>0.025047</td>\n",
       "      <td>0.419451</td>\n",
       "      <td>0.045363</td>\n",
       "      <td>0.155610</td>\n",
       "      <td>1.000000</td>\n",
       "      <td>0.180241</td>\n",
       "      <td>0.126503</td>\n",
       "      <td>0.097101</td>\n",
       "      <td>0.203790</td>\n",
       "    </tr>\n",
       "    <tr>\n",
       "      <th>BMI</th>\n",
       "      <td>0.021559</td>\n",
       "      <td>0.231049</td>\n",
       "      <td>0.281257</td>\n",
       "      <td>0.543205</td>\n",
       "      <td>0.180241</td>\n",
       "      <td>1.000000</td>\n",
       "      <td>0.153438</td>\n",
       "      <td>0.025597</td>\n",
       "      <td>0.312038</td>\n",
       "    </tr>\n",
       "    <tr>\n",
       "      <th>DiabetesPedigreeFunction</th>\n",
       "      <td>-0.033523</td>\n",
       "      <td>0.137327</td>\n",
       "      <td>-0.002378</td>\n",
       "      <td>0.102188</td>\n",
       "      <td>0.126503</td>\n",
       "      <td>0.153438</td>\n",
       "      <td>1.000000</td>\n",
       "      <td>0.033561</td>\n",
       "      <td>0.173844</td>\n",
       "    </tr>\n",
       "    <tr>\n",
       "      <th>Age</th>\n",
       "      <td>0.544341</td>\n",
       "      <td>0.266909</td>\n",
       "      <td>0.324915</td>\n",
       "      <td>0.126107</td>\n",
       "      <td>0.097101</td>\n",
       "      <td>0.025597</td>\n",
       "      <td>0.033561</td>\n",
       "      <td>1.000000</td>\n",
       "      <td>0.238356</td>\n",
       "    </tr>\n",
       "    <tr>\n",
       "      <th>Outcome</th>\n",
       "      <td>0.221898</td>\n",
       "      <td>0.492782</td>\n",
       "      <td>0.165723</td>\n",
       "      <td>0.214873</td>\n",
       "      <td>0.203790</td>\n",
       "      <td>0.312038</td>\n",
       "      <td>0.173844</td>\n",
       "      <td>0.238356</td>\n",
       "      <td>1.000000</td>\n",
       "    </tr>\n",
       "  </tbody>\n",
       "</table>\n",
       "</div>"
      ],
      "text/plain": [
       "                          Pregnancies   Glucose  BloodPressure  SkinThickness  \\\n",
       "Pregnancies                  1.000000  0.128213       0.208615       0.081770   \n",
       "Glucose                      0.128213  1.000000       0.218937       0.192615   \n",
       "BloodPressure                0.208615  0.218937       1.000000       0.191892   \n",
       "SkinThickness                0.081770  0.192615       0.191892       1.000000   \n",
       "Insulin                      0.025047  0.419451       0.045363       0.155610   \n",
       "BMI                          0.021559  0.231049       0.281257       0.543205   \n",
       "DiabetesPedigreeFunction    -0.033523  0.137327      -0.002378       0.102188   \n",
       "Age                          0.544341  0.266909       0.324915       0.126107   \n",
       "Outcome                      0.221898  0.492782       0.165723       0.214873   \n",
       "\n",
       "                           Insulin       BMI  DiabetesPedigreeFunction  \\\n",
       "Pregnancies               0.025047  0.021559                 -0.033523   \n",
       "Glucose                   0.419451  0.231049                  0.137327   \n",
       "BloodPressure             0.045363  0.281257                 -0.002378   \n",
       "SkinThickness             0.155610  0.543205                  0.102188   \n",
       "Insulin                   1.000000  0.180241                  0.126503   \n",
       "BMI                       0.180241  1.000000                  0.153438   \n",
       "DiabetesPedigreeFunction  0.126503  0.153438                  1.000000   \n",
       "Age                       0.097101  0.025597                  0.033561   \n",
       "Outcome                   0.203790  0.312038                  0.173844   \n",
       "\n",
       "                               Age   Outcome  \n",
       "Pregnancies               0.544341  0.221898  \n",
       "Glucose                   0.266909  0.492782  \n",
       "BloodPressure             0.324915  0.165723  \n",
       "SkinThickness             0.126107  0.214873  \n",
       "Insulin                   0.097101  0.203790  \n",
       "BMI                       0.025597  0.312038  \n",
       "DiabetesPedigreeFunction  0.033561  0.173844  \n",
       "Age                       1.000000  0.238356  \n",
       "Outcome                   0.238356  1.000000  "
      ]
     },
     "execution_count": 18,
     "metadata": {},
     "output_type": "execute_result"
    }
   ],
   "source": [
    "data.corr()"
   ]
  },
  {
   "cell_type": "code",
   "execution_count": 19,
   "id": "18cb1930",
   "metadata": {},
   "outputs": [
    {
     "data": {
      "image/png": "[encoded data removed]",
      "text/plain": [
       "<Figure size 800x700 with 2 Axes>"
      ]
     },
     "metadata": {},
     "output_type": "display_data"
    }
   ],
   "source": [
    "plt.figure(figsize = (8, 7))\n",
    "sns.heatmap(data.corr(), annot = True, cmap = 'coolwarm')\n",
    "plt.title(\"Correlation Matrix of Data\")\n",
    "plt.show()"
   ]
  },
  {
   "cell_type": "markdown",
   "id": "4a11cd0c",
   "metadata": {},
   "source": [
    "# Regularization"
   ]
  },
  {
   "cell_type": "code",
   "execution_count": 20,
   "id": "11cc6c2a",
   "metadata": {},
   "outputs": [
    {
     "data": {
      "text/plain": [
       "268"
      ]
     },
     "execution_count": 20,
     "metadata": {},
     "output_type": "execute_result"
    }
   ],
   "source": [
    "temp_df1 = data[data['Outcome'] == 1]\n",
    "len(temp_df1)"
   ]
  },
  {
   "cell_type": "code",
   "execution_count": 21,
   "id": "a2b02005",
   "metadata": {},
   "outputs": [
    {
     "data": {
      "text/plain": [
       "269"
      ]
     },
     "execution_count": 21,
     "metadata": {},
     "output_type": "execute_result"
    }
   ],
   "source": [
    "temp = data[data['Outcome'] == 0]\n",
    "temp_df2 = temp[150:419]\n",
    "len(temp_df2)"
   ]
  },
  {
   "cell_type": "code",
   "execution_count": 22,
   "id": "302102ac",
   "metadata": {},
   "outputs": [
    {
     "data": {
      "text/plain": [
       "(537, 9)"
      ]
     },
     "execution_count": 22,
     "metadata": {},
     "output_type": "execute_result"
    }
   ],
   "source": [
    "upd_data = pd.concat([temp_df1, temp_df2], axis  = 0)\n",
    "upd_data.shape"
   ]
  },
  {
   "cell_type": "code",
   "execution_count": 23,
   "id": "cdd826d5",
   "metadata": {},
   "outputs": [
    {
     "data": {
      "text/html": [
       "<div>\n",
       "<style scoped>\n",
       "    .dataframe tbody tr th:only-of-type {\n",
       "        vertical-align: middle;\n",
       "    }\n",
       "\n",
       "    .dataframe tbody tr th {\n",
       "        vertical-align: top;\n",
       "    }\n",
       "\n",
       "    .dataframe thead th {\n",
       "        text-align: right;\n",
       "    }\n",
       "</style>\n",
       "<table border=\"1\" class=\"dataframe\">\n",
       "  <thead>\n",
       "    <tr style=\"text-align: right;\">\n",
       "      <th></th>\n",
       "      <th>Pregnancies</th>\n",
       "      <th>Glucose</th>\n",
       "      <th>BloodPressure</th>\n",
       "      <th>SkinThickness</th>\n",
       "      <th>Insulin</th>\n",
       "      <th>BMI</th>\n",
       "      <th>DiabetesPedigreeFunction</th>\n",
       "      <th>Age</th>\n",
       "      <th>Outcome</th>\n",
       "    </tr>\n",
       "  </thead>\n",
       "  <tbody>\n",
       "    <tr>\n",
       "      <th>0</th>\n",
       "      <td>6</td>\n",
       "      <td>148.0</td>\n",
       "      <td>72.0</td>\n",
       "      <td>35.0</td>\n",
       "      <td>125.0</td>\n",
       "      <td>33.6</td>\n",
       "      <td>0.627</td>\n",
       "      <td>50</td>\n",
       "      <td>1</td>\n",
       "    </tr>\n",
       "    <tr>\n",
       "      <th>2</th>\n",
       "      <td>8</td>\n",
       "      <td>183.0</td>\n",
       "      <td>64.0</td>\n",
       "      <td>29.0</td>\n",
       "      <td>125.0</td>\n",
       "      <td>23.3</td>\n",
       "      <td>0.672</td>\n",
       "      <td>32</td>\n",
       "      <td>1</td>\n",
       "    </tr>\n",
       "    <tr>\n",
       "      <th>4</th>\n",
       "      <td>0</td>\n",
       "      <td>137.0</td>\n",
       "      <td>40.0</td>\n",
       "      <td>35.0</td>\n",
       "      <td>168.0</td>\n",
       "      <td>43.1</td>\n",
       "      <td>2.288</td>\n",
       "      <td>33</td>\n",
       "      <td>1</td>\n",
       "    </tr>\n",
       "    <tr>\n",
       "      <th>6</th>\n",
       "      <td>3</td>\n",
       "      <td>78.0</td>\n",
       "      <td>50.0</td>\n",
       "      <td>32.0</td>\n",
       "      <td>88.0</td>\n",
       "      <td>31.0</td>\n",
       "      <td>0.248</td>\n",
       "      <td>26</td>\n",
       "      <td>1</td>\n",
       "    </tr>\n",
       "    <tr>\n",
       "      <th>8</th>\n",
       "      <td>2</td>\n",
       "      <td>197.0</td>\n",
       "      <td>70.0</td>\n",
       "      <td>45.0</td>\n",
       "      <td>543.0</td>\n",
       "      <td>30.5</td>\n",
       "      <td>0.158</td>\n",
       "      <td>53</td>\n",
       "      <td>1</td>\n",
       "    </tr>\n",
       "  </tbody>\n",
       "</table>\n",
       "</div>"
      ],
      "text/plain": [
       "   Pregnancies  Glucose  BloodPressure  SkinThickness  Insulin   BMI  \\\n",
       "0            6    148.0           72.0           35.0    125.0  33.6   \n",
       "2            8    183.0           64.0           29.0    125.0  23.3   \n",
       "4            0    137.0           40.0           35.0    168.0  43.1   \n",
       "6            3     78.0           50.0           32.0     88.0  31.0   \n",
       "8            2    197.0           70.0           45.0    543.0  30.5   \n",
       "\n",
       "   DiabetesPedigreeFunction  Age  Outcome  \n",
       "0                     0.627   50        1  \n",
       "2                     0.672   32        1  \n",
       "4                     2.288   33        1  \n",
       "6                     0.248   26        1  \n",
       "8                     0.158   53        1  "
      ]
     },
     "execution_count": 23,
     "metadata": {},
     "output_type": "execute_result"
    }
   ],
   "source": [
    "upd_data.head()"
   ]
  },
  {
   "cell_type": "code",
   "execution_count": 24,
   "id": "2d6181b4",
   "metadata": {},
   "outputs": [
    {
     "data": {
      "text/html": [
       "<div>\n",
       "<style scoped>\n",
       "    .dataframe tbody tr th:only-of-type {\n",
       "        vertical-align: middle;\n",
       "    }\n",
       "\n",
       "    .dataframe tbody tr th {\n",
       "        vertical-align: top;\n",
       "    }\n",
       "\n",
       "    .dataframe thead th {\n",
       "        text-align: right;\n",
       "    }\n",
       "</style>\n",
       "<table border=\"1\" class=\"dataframe\">\n",
       "  <thead>\n",
       "    <tr style=\"text-align: right;\">\n",
       "      <th></th>\n",
       "      <th>Pregnancies</th>\n",
       "      <th>Glucose</th>\n",
       "      <th>BloodPressure</th>\n",
       "      <th>SkinThickness</th>\n",
       "      <th>Insulin</th>\n",
       "      <th>BMI</th>\n",
       "      <th>DiabetesPedigreeFunction</th>\n",
       "      <th>Age</th>\n",
       "      <th>Outcome</th>\n",
       "    </tr>\n",
       "  </thead>\n",
       "  <tbody>\n",
       "    <tr>\n",
       "      <th>631</th>\n",
       "      <td>0</td>\n",
       "      <td>102.0</td>\n",
       "      <td>78.0</td>\n",
       "      <td>40.0</td>\n",
       "      <td>90.0</td>\n",
       "      <td>34.5</td>\n",
       "      <td>0.238</td>\n",
       "      <td>24</td>\n",
       "      <td>0</td>\n",
       "    </tr>\n",
       "    <tr>\n",
       "      <th>632</th>\n",
       "      <td>2</td>\n",
       "      <td>111.0</td>\n",
       "      <td>60.0</td>\n",
       "      <td>29.0</td>\n",
       "      <td>125.0</td>\n",
       "      <td>26.2</td>\n",
       "      <td>0.343</td>\n",
       "      <td>23</td>\n",
       "      <td>0</td>\n",
       "    </tr>\n",
       "    <tr>\n",
       "      <th>633</th>\n",
       "      <td>1</td>\n",
       "      <td>128.0</td>\n",
       "      <td>82.0</td>\n",
       "      <td>17.0</td>\n",
       "      <td>183.0</td>\n",
       "      <td>27.5</td>\n",
       "      <td>0.115</td>\n",
       "      <td>22</td>\n",
       "      <td>0</td>\n",
       "    </tr>\n",
       "    <tr>\n",
       "      <th>634</th>\n",
       "      <td>10</td>\n",
       "      <td>92.0</td>\n",
       "      <td>62.0</td>\n",
       "      <td>29.0</td>\n",
       "      <td>125.0</td>\n",
       "      <td>25.9</td>\n",
       "      <td>0.167</td>\n",
       "      <td>31</td>\n",
       "      <td>0</td>\n",
       "    </tr>\n",
       "    <tr>\n",
       "      <th>636</th>\n",
       "      <td>5</td>\n",
       "      <td>104.0</td>\n",
       "      <td>74.0</td>\n",
       "      <td>29.0</td>\n",
       "      <td>125.0</td>\n",
       "      <td>28.8</td>\n",
       "      <td>0.153</td>\n",
       "      <td>48</td>\n",
       "      <td>0</td>\n",
       "    </tr>\n",
       "  </tbody>\n",
       "</table>\n",
       "</div>"
      ],
      "text/plain": [
       "     Pregnancies  Glucose  BloodPressure  SkinThickness  Insulin   BMI  \\\n",
       "631            0    102.0           78.0           40.0     90.0  34.5   \n",
       "632            2    111.0           60.0           29.0    125.0  26.2   \n",
       "633            1    128.0           82.0           17.0    183.0  27.5   \n",
       "634           10     92.0           62.0           29.0    125.0  25.9   \n",
       "636            5    104.0           74.0           29.0    125.0  28.8   \n",
       "\n",
       "     DiabetesPedigreeFunction  Age  Outcome  \n",
       "631                     0.238   24        0  \n",
       "632                     0.343   23        0  \n",
       "633                     0.115   22        0  \n",
       "634                     0.167   31        0  \n",
       "636                     0.153   48        0  "
      ]
     },
     "execution_count": 24,
     "metadata": {},
     "output_type": "execute_result"
    }
   ],
   "source": [
    "upd_data.tail()"
   ]
  },
  {
   "cell_type": "markdown",
   "id": "b2014ab4",
   "metadata": {},
   "source": [
    "# Train Test Split"
   ]
  },
  {
   "cell_type": "code",
   "execution_count": 25,
   "id": "6fc9eae2",
   "metadata": {},
   "outputs": [],
   "source": [
    "X = upd_data[['Pregnancies', 'Glucose', 'BloodPressure', 'SkinThickness', 'Insulin',\n",
    "       'BMI', 'DiabetesPedigreeFunction', 'Age']]\n",
    "y = upd_data['Outcome']"
   ]
  },
  {
   "cell_type": "code",
   "execution_count": 26,
   "id": "c9789993",
   "metadata": {},
   "outputs": [],
   "source": [
    "x_train, x_test, y_train, y_test = train_test_split(X, y, test_size = 0.15, stratify = y, random_state = 15)"
   ]
  },
  {
   "cell_type": "code",
   "execution_count": 27,
   "id": "d9d424ab",
   "metadata": {},
   "outputs": [
    {
     "data": {
      "text/plain": [
       "1    228\n",
       "0    228\n",
       "Name: Outcome, dtype: int64"
      ]
     },
     "execution_count": 27,
     "metadata": {},
     "output_type": "execute_result"
    }
   ],
   "source": [
    "y_train.value_counts()"
   ]
  },
  {
   "cell_type": "markdown",
   "id": "53bddbb8",
   "metadata": {},
   "source": [
    "# Scaling the features"
   ]
  },
  {
   "cell_type": "code",
   "execution_count": 28,
   "id": "a5d08820",
   "metadata": {},
   "outputs": [],
   "source": [
    "sc = StandardScaler()\n",
    "mn = MinMaxScaler(feature_range = (0,1))"
   ]
  },
  {
   "cell_type": "code",
   "execution_count": 29,
   "id": "4479b54d",
   "metadata": {},
   "outputs": [],
   "source": [
    "x_train_scaled = sc.fit_transform(x_train)"
   ]
  },
  {
   "cell_type": "code",
   "execution_count": 30,
   "id": "3bce22ce",
   "metadata": {},
   "outputs": [],
   "source": [
    "x_test_array = sc.fit_transform(x_test)\n",
    "y_train = np.asanyarray(y_train)\n",
    "y_test = np.asanyarray(y_test)"
   ]
  },
  {
   "cell_type": "markdown",
   "id": "a0c88feb",
   "metadata": {},
   "source": [
    "# Machine Learning"
   ]
  },
  {
   "cell_type": "code",
   "execution_count": 31,
   "id": "592fb5a1",
   "metadata": {},
   "outputs": [
    {
     "data": {
      "text/plain": [
       "Index(['Pregnancies', 'Glucose', 'BloodPressure', 'SkinThickness', 'Insulin',\n",
       "       'BMI', 'DiabetesPedigreeFunction', 'Age', 'Outcome'],\n",
       "      dtype='object')"
      ]
     },
     "execution_count": 31,
     "metadata": {},
     "output_type": "execute_result"
    }
   ],
   "source": [
    "data.columns"
   ]
  },
  {
   "cell_type": "code",
   "execution_count": 32,
   "id": "c6e0fcf7",
   "metadata": {},
   "outputs": [],
   "source": [
    "clf_rf = RandomForestClassifier(n_estimators = 25, criterion = 'entropy')"
   ]
  },
  {
   "cell_type": "code",
   "execution_count": 33,
   "id": "0e2bbfd4",
   "metadata": {},
   "outputs": [],
   "source": [
    "clf_svm = SVC(kernel = 'linear', C = 1.5)"
   ]
  },
  {
   "cell_type": "code",
   "execution_count": 34,
   "id": "7c103933",
   "metadata": {},
   "outputs": [],
   "source": [
    "clf_lr = LogisticRegression()"
   ]
  },
  {
   "cell_type": "code",
   "execution_count": 35,
   "id": "e9e3e608",
   "metadata": {},
   "outputs": [],
   "source": [
    "clf_dt = DecisionTreeClassifier(criterion = 'entropy', splitter = 'best')"
   ]
  },
  {
   "cell_type": "code",
   "execution_count": 36,
   "id": "b2e7e62e",
   "metadata": {},
   "outputs": [],
   "source": [
    "model_lst = [clf_rf, clf_svm, clf_lr, clf_dt]"
   ]
  },
  {
   "cell_type": "code",
   "execution_count": 37,
   "id": "0be12fc3",
   "metadata": {},
   "outputs": [
    {
     "name": "stdout",
     "output_type": "stream",
     "text": [
      "Accuracy of the RandomForestClassifier(criterion='entropy', n_estimators=25) model : 0.7654320987654321\n",
      "Accuracy of the SVC(C=1.5, kernel='linear') model : 0.7777777777777778\n",
      "Accuracy of the LogisticRegression() model : 0.7777777777777778\n",
      "Accuracy of the DecisionTreeClassifier(criterion='entropy') model : 0.7407407407407407\n"
     ]
    }
   ],
   "source": [
    "for i in model_lst:\n",
    "    i.fit(x_train_scaled, y_train)\n",
    "    print(f\"Accuracy of the {i} model : {accuracy_score(y_test, i.predict(x_test_array))}\")"
   ]
  },
  {
   "cell_type": "markdown",
   "id": "439ef4a8",
   "metadata": {},
   "source": [
    "Since the SVC(Simple Vector classifier) has the maximum accuracy, we can use that model to perform further process "
   ]
  },
  {
   "cell_type": "code",
   "execution_count": 38,
   "id": "30a749e1",
   "metadata": {},
   "outputs": [
    {
     "data": {
      "text/html": [
       "<style>#sk-container-id-1 {color: black;background-color: white;}#sk-container-id-1 pre{padding: 0;}#sk-container-id-1 div.sk-toggleable {background-color: white;}#sk-container-id-1 label.sk-toggleable__label {cursor: pointer;display: block;width: 100%;margin-bottom: 0;padding: 0.3em;box-sizing: border-box;text-align: center;}#sk-container-id-1 label.sk-toggleable__label-arrow:before {content: \"▸\";float: left;margin-right: 0.25em;color: #696969;}#sk-container-id-1 label.sk-toggleable__label-arrow:hover:before {color: black;}#sk-container-id-1 div.sk-estimator:hover label.sk-toggleable__label-arrow:before {color: black;}#sk-container-id-1 div.sk-toggleable__content {max-height: 0;max-width: 0;overflow: hidden;text-align: left;background-color: #f0f8ff;}#sk-container-id-1 div.sk-toggleable__content pre {margin: 0.2em;color: black;border-radius: 0.25em;background-color: #f0f8ff;}#sk-container-id-1 input.sk-toggleable__control:checked~div.sk-toggleable__content {max-height: 200px;max-width: 100%;overflow: auto;}#sk-container-id-1 input.sk-toggleable__control:checked~label.sk-toggleable__label-arrow:before {content: \"▾\";}#sk-container-id-1 div.sk-estimator input.sk-toggleable__control:checked~label.sk-toggleable__label {background-color: #d4ebff;}#sk-container-id-1 div.sk-label input.sk-toggleable__control:checked~label.sk-toggleable__label {background-color: #d4ebff;}#sk-container-id-1 input.sk-hidden--visually {border: 0;clip: rect(1px 1px 1px 1px);clip: rect(1px, 1px, 1px, 1px);height: 1px;margin: -1px;overflow: hidden;padding: 0;position: absolute;width: 1px;}#sk-container-id-1 div.sk-estimator {font-family: monospace;background-color: #f0f8ff;border: 1px dotted black;border-radius: 0.25em;box-sizing: border-box;margin-bottom: 0.5em;}#sk-container-id-1 div.sk-estimator:hover {background-color: #d4ebff;}#sk-container-id-1 div.sk-parallel-item::after {content: \"\";width: 100%;border-bottom: 1px solid gray;flex-grow: 1;}#sk-container-id-1 div.sk-label:hover label.sk-toggleable__label {background-color: #d4ebff;}#sk-container-id-1 div.sk-serial::before {content: \"\";position: absolute;border-left: 1px solid gray;box-sizing: border-box;top: 0;bottom: 0;left: 50%;z-index: 0;}#sk-container-id-1 div.sk-serial {display: flex;flex-direction: column;align-items: center;background-color: white;padding-right: 0.2em;padding-left: 0.2em;position: relative;}#sk-container-id-1 div.sk-item {position: relative;z-index: 1;}#sk-container-id-1 div.sk-parallel {display: flex;align-items: stretch;justify-content: center;background-color: white;position: relative;}#sk-container-id-1 div.sk-item::before, #sk-container-id-1 div.sk-parallel-item::before {content: \"\";position: absolute;border-left: 1px solid gray;box-sizing: border-box;top: 0;bottom: 0;left: 50%;z-index: -1;}#sk-container-id-1 div.sk-parallel-item {display: flex;flex-direction: column;z-index: 1;position: relative;background-color: white;}#sk-container-id-1 div.sk-parallel-item:first-child::after {align-self: flex-end;width: 50%;}#sk-container-id-1 div.sk-parallel-item:last-child::after {align-self: flex-start;width: 50%;}#sk-container-id-1 div.sk-parallel-item:only-child::after {width: 0;}#sk-container-id-1 div.sk-dashed-wrapped {border: 1px dashed gray;margin: 0 0.4em 0.5em 0.4em;box-sizing: border-box;padding-bottom: 0.4em;background-color: white;}#sk-container-id-1 div.sk-label label {font-family: monospace;font-weight: bold;display: inline-block;line-height: 1.2em;}#sk-container-id-1 div.sk-label-container {text-align: center;}#sk-container-id-1 div.sk-container {/* jupyter's `normalize.less` sets `[hidden] { display: none; }` but bootstrap.min.css set `[hidden] { display: none !important; }` so we also need the `!important` here to be able to override the default hidden behavior on the sphinx rendered scikit-learn.org. See: https://github.com/scikit-learn/scikit-learn/issues/21755 */display: inline-block !important;position: relative;}#sk-container-id-1 div.sk-text-repr-fallback {display: none;}</style><div id=\"sk-container-id-1\" class=\"sk-top-container\"><div class=\"sk-text-repr-fallback\"><pre>SVC(C=1.5, kernel=&#x27;linear&#x27;)</pre><b>In a Jupyter environment, please rerun this cell to show the HTML representation or trust the notebook. <br />On GitHub, the HTML representation is unable to render, please try loading this page with nbviewer.org.</b></div><div class=\"sk-container\" hidden><div class=\"sk-item\"><div class=\"sk-estimator sk-toggleable\"><input class=\"sk-toggleable__control sk-hidden--visually\" id=\"sk-estimator-id-1\" type=\"checkbox\" checked><label for=\"sk-estimator-id-1\" class=\"sk-toggleable__label sk-toggleable__label-arrow\">SVC</label><div class=\"sk-toggleable__content\"><pre>SVC(C=1.5, kernel=&#x27;linear&#x27;)</pre></div></div></div></div></div>"
      ],
      "text/plain": [
       "SVC(C=1.5, kernel='linear')"
      ]
     },
     "execution_count": 38,
     "metadata": {},
     "output_type": "execute_result"
    }
   ],
   "source": [
    "clf_svm.fit(x_train_scaled, y_train)"
   ]
  },
  {
   "cell_type": "code",
   "execution_count": 39,
   "id": "378b3570",
   "metadata": {},
   "outputs": [],
   "source": [
    "y_pred = clf_svm.predict(x_test_array)"
   ]
  },
  {
   "cell_type": "code",
   "execution_count": 40,
   "id": "5ae358a3",
   "metadata": {},
   "outputs": [
    {
     "name": "stdout",
     "output_type": "stream",
     "text": [
      "              precision    recall  f1-score   support\n",
      "\n",
      "           0       0.78      0.78      0.78        41\n",
      "           1       0.78      0.78      0.78        40\n",
      "\n",
      "    accuracy                           0.78        81\n",
      "   macro avg       0.78      0.78      0.78        81\n",
      "weighted avg       0.78      0.78      0.78        81\n",
      "\n"
     ]
    }
   ],
   "source": [
    "report = classification_report(y_test, y_pred, zero_division = 1)\n",
    "print(report)"
   ]
  },
  {
   "cell_type": "markdown",
   "id": "19dd27d3",
   "metadata": {},
   "source": [
    "# KFold Cross Validation"
   ]
  },
  {
   "cell_type": "code",
   "execution_count": 41,
   "id": "4a18db70",
   "metadata": {},
   "outputs": [],
   "source": [
    "classifier = SVC(kernel = 'linear', C = 1.5)\n",
    "num_folds = 10"
   ]
  },
  {
   "cell_type": "code",
   "execution_count": 42,
   "id": "ed2dfbde",
   "metadata": {},
   "outputs": [],
   "source": [
    "k_fold = KFold(n_splits = num_folds, shuffle = True, random_state = 42)"
   ]
  },
  {
   "cell_type": "code",
   "execution_count": 43,
   "id": "84a19fa3",
   "metadata": {},
   "outputs": [],
   "source": [
    "scores = cross_val_score(classifier, X, y, cv = k_fold, scoring = 'accuracy')"
   ]
  },
  {
   "cell_type": "code",
   "execution_count": 44,
   "id": "8f68e72f",
   "metadata": {},
   "outputs": [
    {
     "name": "stdout",
     "output_type": "stream",
     "text": [
      "Cross-Validation Scores : [0.81481481 0.66666667 0.75925926 0.81481481 0.74074074 0.7037037\n",
      " 0.74074074 0.73584906 0.75471698 0.71698113]\n",
      "\n",
      "Mean Score value : 0.744828791055206\n",
      "\n",
      "Standard Deviation of scores: 0.04335002227192133\n"
     ]
    }
   ],
   "source": [
    "print(f\"Cross-Validation Scores : {scores}\\n\")\n",
    "print(f\"Mean Score value : {scores.mean()}\\n\")\n",
    "print(f\"Standard Deviation of scores: {scores.std()}\")"
   ]
  },
  {
   "cell_type": "markdown",
   "id": "decfc473",
   "metadata": {},
   "source": [
    "# Deep learning"
   ]
  },
  {
   "cell_type": "code",
   "execution_count": 51,
   "id": "7a11f8b6",
   "metadata": {},
   "outputs": [],
   "source": [
    "model = Sequential([\n",
    "                    tf.keras.layers.Dense(32, activation = 'relu', input_shape = (8,)),\n",
    "                    \n",
    "                    tf.keras.layers.Dense(128, activation = 'relu'),\n",
    "                    tf.keras.layers.Dropout(0.7),\n",
    "                    tf.keras.layers.Dense(28, activation = 'relu'),\n",
    "                    tf.keras.layers.Dense(64, activation = 'relu'),\n",
    "                    tf.keras.layers.Dense(32, activation = 'relu'),\n",
    "                    tf.keras.layers.Dense(8, activation = 'relu'),\n",
    "    \n",
    "                    tf.keras.layers.Dense(1, activation = 'sigmoid')\n",
    "])"
   ]
  },
  {
   "cell_type": "code",
   "execution_count": 52,
   "id": "3ea05f30",
   "metadata": {},
   "outputs": [
    {
     "name": "stdout",
     "output_type": "stream",
     "text": [
      "Model: \"sequential_1\"\n",
      "_________________________________________________________________\n",
      " Layer (type)                Output Shape              Param #   \n",
      "=================================================================\n",
      " dense_7 (Dense)             (None, 32)                288       \n",
      "                                                                 \n",
      " dense_8 (Dense)             (None, 128)               4224      \n",
      "                                                                 \n",
      " dropout_1 (Dropout)         (None, 128)               0         \n",
      "                                                                 \n",
      " dense_9 (Dense)             (None, 28)                3612      \n",
      "                                                                 \n",
      " dense_10 (Dense)            (None, 64)                1856      \n",
      "                                                                 \n",
      " dense_11 (Dense)            (None, 32)                2080      \n",
      "                                                                 \n",
      " dense_12 (Dense)            (None, 8)                 264       \n",
      "                                                                 \n",
      " dense_13 (Dense)            (None, 1)                 9         \n",
      "                                                                 \n",
      "=================================================================\n",
      "Total params: 12333 (48.18 KB)\n",
      "Trainable params: 12333 (48.18 KB)\n",
      "Non-trainable params: 0 (0.00 Byte)\n",
      "_________________________________________________________________\n"
     ]
    }
   ],
   "source": [
    "model.summary()"
   ]
  },
  {
   "cell_type": "code",
   "execution_count": 53,
   "id": "1fe7e83b",
   "metadata": {},
   "outputs": [],
   "source": [
    "model.compile(optimizer = tf.keras.optimizers.Adam(learning_rate=1e-3),\n",
    "             metrics = 'accuracy',\n",
    "             loss = 'binary_crossentropy')"
   ]
  },
  {
   "cell_type": "code",
   "execution_count": 54,
   "id": "9b690066",
   "metadata": {},
   "outputs": [
    {
     "name": "stdout",
     "output_type": "stream",
     "text": [
      "Epoch 1/60\n",
      "23/23 [==============================] - 1s 10ms/step - loss: 0.6782 - accuracy: 0.5833 - val_loss: 0.6390 - val_accuracy: 0.7407\n",
      "Epoch 2/60\n",
      "23/23 [==============================] - 0s 3ms/step - loss: 0.6121 - accuracy: 0.7193 - val_loss: 0.5501 - val_accuracy: 0.7901\n",
      "Epoch 3/60\n",
      "23/23 [==============================] - 0s 4ms/step - loss: 0.5552 - accuracy: 0.7105 - val_loss: 0.5187 - val_accuracy: 0.7654\n",
      "Epoch 4/60\n",
      "23/23 [==============================] - 0s 3ms/step - loss: 0.5175 - accuracy: 0.7346 - val_loss: 0.5216 - val_accuracy: 0.7778\n",
      "Epoch 5/60\n",
      "23/23 [==============================] - 0s 3ms/step - loss: 0.5159 - accuracy: 0.7434 - val_loss: 0.5227 - val_accuracy: 0.7654\n",
      "Epoch 6/60\n",
      "23/23 [==============================] - 0s 3ms/step - loss: 0.4975 - accuracy: 0.7654 - val_loss: 0.5216 - val_accuracy: 0.7654\n",
      "Epoch 7/60\n",
      "23/23 [==============================] - 0s 3ms/step - loss: 0.4688 - accuracy: 0.7675 - val_loss: 0.5315 - val_accuracy: 0.7654\n",
      "Epoch 8/60\n",
      "23/23 [==============================] - 0s 3ms/step - loss: 0.4842 - accuracy: 0.7675 - val_loss: 0.5159 - val_accuracy: 0.7531\n",
      "Epoch 9/60\n",
      "23/23 [==============================] - 0s 3ms/step - loss: 0.4746 - accuracy: 0.7741 - val_loss: 0.5140 - val_accuracy: 0.7778\n",
      "Epoch 10/60\n",
      "23/23 [==============================] - 0s 3ms/step - loss: 0.4512 - accuracy: 0.7939 - val_loss: 0.5231 - val_accuracy: 0.7778\n",
      "Epoch 11/60\n",
      "23/23 [==============================] - 0s 3ms/step - loss: 0.4555 - accuracy: 0.7763 - val_loss: 0.5262 - val_accuracy: 0.7778\n",
      "Epoch 12/60\n",
      "23/23 [==============================] - 0s 4ms/step - loss: 0.4489 - accuracy: 0.8114 - val_loss: 0.5202 - val_accuracy: 0.7531\n",
      "Epoch 13/60\n",
      "23/23 [==============================] - 0s 3ms/step - loss: 0.4589 - accuracy: 0.7807 - val_loss: 0.5240 - val_accuracy: 0.7778\n",
      "Epoch 14/60\n",
      "23/23 [==============================] - 0s 3ms/step - loss: 0.4753 - accuracy: 0.7763 - val_loss: 0.5163 - val_accuracy: 0.7901\n",
      "Epoch 15/60\n",
      "23/23 [==============================] - 0s 3ms/step - loss: 0.4661 - accuracy: 0.8026 - val_loss: 0.5188 - val_accuracy: 0.7778\n",
      "Epoch 16/60\n",
      "23/23 [==============================] - 0s 3ms/step - loss: 0.4532 - accuracy: 0.8048 - val_loss: 0.5238 - val_accuracy: 0.7778\n",
      "Epoch 17/60\n",
      "23/23 [==============================] - 0s 3ms/step - loss: 0.4462 - accuracy: 0.8092 - val_loss: 0.5196 - val_accuracy: 0.7901\n",
      "Epoch 18/60\n",
      "23/23 [==============================] - 0s 3ms/step - loss: 0.4478 - accuracy: 0.8026 - val_loss: 0.5245 - val_accuracy: 0.7778\n",
      "Epoch 19/60\n",
      "23/23 [==============================] - 0s 3ms/step - loss: 0.4335 - accuracy: 0.8092 - val_loss: 0.5279 - val_accuracy: 0.7778\n",
      "Epoch 20/60\n",
      "23/23 [==============================] - 0s 3ms/step - loss: 0.4325 - accuracy: 0.8158 - val_loss: 0.5276 - val_accuracy: 0.7901\n",
      "Epoch 21/60\n",
      "23/23 [==============================] - 0s 3ms/step - loss: 0.4268 - accuracy: 0.8048 - val_loss: 0.5275 - val_accuracy: 0.7901\n",
      "Epoch 22/60\n",
      "23/23 [==============================] - 0s 3ms/step - loss: 0.4232 - accuracy: 0.8268 - val_loss: 0.5415 - val_accuracy: 0.7901\n",
      "Epoch 23/60\n",
      "23/23 [==============================] - 0s 3ms/step - loss: 0.4282 - accuracy: 0.8070 - val_loss: 0.5328 - val_accuracy: 0.7654\n",
      "Epoch 24/60\n",
      "23/23 [==============================] - 0s 4ms/step - loss: 0.4129 - accuracy: 0.8246 - val_loss: 0.5500 - val_accuracy: 0.7654\n",
      "Epoch 25/60\n",
      "23/23 [==============================] - 0s 4ms/step - loss: 0.3968 - accuracy: 0.8289 - val_loss: 0.5499 - val_accuracy: 0.7654\n",
      "Epoch 26/60\n",
      "23/23 [==============================] - 0s 3ms/step - loss: 0.4024 - accuracy: 0.8355 - val_loss: 0.5478 - val_accuracy: 0.7901\n",
      "Epoch 27/60\n",
      "23/23 [==============================] - 0s 3ms/step - loss: 0.4192 - accuracy: 0.8070 - val_loss: 0.5491 - val_accuracy: 0.7778\n",
      "Epoch 28/60\n",
      "23/23 [==============================] - 0s 3ms/step - loss: 0.4101 - accuracy: 0.8224 - val_loss: 0.5459 - val_accuracy: 0.7778\n",
      "Epoch 29/60\n",
      "23/23 [==============================] - 0s 3ms/step - loss: 0.4254 - accuracy: 0.8246 - val_loss: 0.5573 - val_accuracy: 0.7531\n",
      "Epoch 30/60\n",
      "23/23 [==============================] - 0s 3ms/step - loss: 0.3941 - accuracy: 0.8421 - val_loss: 0.5381 - val_accuracy: 0.7654\n",
      "Epoch 31/60\n",
      "23/23 [==============================] - 0s 3ms/step - loss: 0.3951 - accuracy: 0.8311 - val_loss: 0.5448 - val_accuracy: 0.7531\n",
      "Epoch 32/60\n",
      "23/23 [==============================] - 0s 4ms/step - loss: 0.3960 - accuracy: 0.8202 - val_loss: 0.5690 - val_accuracy: 0.7531\n",
      "Epoch 33/60\n",
      "23/23 [==============================] - 0s 3ms/step - loss: 0.4039 - accuracy: 0.8311 - val_loss: 0.5469 - val_accuracy: 0.7531\n",
      "Epoch 34/60\n",
      "23/23 [==============================] - 0s 3ms/step - loss: 0.3973 - accuracy: 0.8355 - val_loss: 0.5487 - val_accuracy: 0.7654\n",
      "Epoch 35/60\n",
      "23/23 [==============================] - 0s 3ms/step - loss: 0.3917 - accuracy: 0.8399 - val_loss: 0.5567 - val_accuracy: 0.7654\n",
      "Epoch 36/60\n",
      "23/23 [==============================] - 0s 3ms/step - loss: 0.3869 - accuracy: 0.8268 - val_loss: 0.5610 - val_accuracy: 0.7531\n",
      "Epoch 37/60\n",
      "23/23 [==============================] - 0s 3ms/step - loss: 0.3855 - accuracy: 0.8399 - val_loss: 0.5615 - val_accuracy: 0.7778\n",
      "Epoch 38/60\n",
      "23/23 [==============================] - 0s 3ms/step - loss: 0.3845 - accuracy: 0.8399 - val_loss: 0.5572 - val_accuracy: 0.7654\n",
      "Epoch 39/60\n",
      "23/23 [==============================] - 0s 3ms/step - loss: 0.3857 - accuracy: 0.8443 - val_loss: 0.5718 - val_accuracy: 0.7901\n",
      "Epoch 40/60\n",
      "23/23 [==============================] - 0s 3ms/step - loss: 0.3873 - accuracy: 0.8333 - val_loss: 0.5845 - val_accuracy: 0.7778\n",
      "Epoch 41/60\n",
      "23/23 [==============================] - 0s 4ms/step - loss: 0.3949 - accuracy: 0.8399 - val_loss: 0.5646 - val_accuracy: 0.7654\n",
      "Epoch 42/60\n",
      "23/23 [==============================] - 0s 3ms/step - loss: 0.3926 - accuracy: 0.8224 - val_loss: 0.5684 - val_accuracy: 0.7654\n",
      "Epoch 43/60\n",
      "23/23 [==============================] - 0s 3ms/step - loss: 0.3790 - accuracy: 0.8531 - val_loss: 0.5920 - val_accuracy: 0.7654\n",
      "Epoch 44/60\n",
      "23/23 [==============================] - 0s 3ms/step - loss: 0.3805 - accuracy: 0.8618 - val_loss: 0.5984 - val_accuracy: 0.7531\n",
      "Epoch 45/60\n",
      "23/23 [==============================] - 0s 3ms/step - loss: 0.3580 - accuracy: 0.8575 - val_loss: 0.5978 - val_accuracy: 0.7407\n",
      "Epoch 46/60\n",
      "23/23 [==============================] - 0s 3ms/step - loss: 0.3558 - accuracy: 0.8443 - val_loss: 0.6251 - val_accuracy: 0.7407\n",
      "Epoch 47/60\n",
      "23/23 [==============================] - 0s 3ms/step - loss: 0.3518 - accuracy: 0.8553 - val_loss: 0.6139 - val_accuracy: 0.7531\n",
      "Epoch 48/60\n",
      "23/23 [==============================] - 0s 3ms/step - loss: 0.3697 - accuracy: 0.8531 - val_loss: 0.6000 - val_accuracy: 0.7531\n",
      "Epoch 49/60\n",
      "23/23 [==============================] - 0s 3ms/step - loss: 0.3573 - accuracy: 0.8640 - val_loss: 0.6313 - val_accuracy: 0.7531\n",
      "Epoch 50/60\n",
      "23/23 [==============================] - 0s 3ms/step - loss: 0.3756 - accuracy: 0.8509 - val_loss: 0.6025 - val_accuracy: 0.7407\n",
      "Epoch 51/60\n",
      "23/23 [==============================] - 0s 3ms/step - loss: 0.3537 - accuracy: 0.8509 - val_loss: 0.6153 - val_accuracy: 0.7531\n",
      "Epoch 52/60\n",
      "23/23 [==============================] - 0s 3ms/step - loss: 0.3683 - accuracy: 0.8465 - val_loss: 0.6208 - val_accuracy: 0.7531\n",
      "Epoch 53/60\n",
      "23/23 [==============================] - 0s 3ms/step - loss: 0.3619 - accuracy: 0.8399 - val_loss: 0.6261 - val_accuracy: 0.7654\n",
      "Epoch 54/60\n",
      "23/23 [==============================] - 0s 3ms/step - loss: 0.3628 - accuracy: 0.8509 - val_loss: 0.6141 - val_accuracy: 0.7531\n",
      "Epoch 55/60\n",
      "23/23 [==============================] - 0s 3ms/step - loss: 0.3456 - accuracy: 0.8531 - val_loss: 0.6413 - val_accuracy: 0.7654\n",
      "Epoch 56/60\n",
      "23/23 [==============================] - 0s 3ms/step - loss: 0.3353 - accuracy: 0.8640 - val_loss: 0.6267 - val_accuracy: 0.7654\n",
      "Epoch 57/60\n",
      "23/23 [==============================] - 0s 3ms/step - loss: 0.3375 - accuracy: 0.8640 - val_loss: 0.6549 - val_accuracy: 0.7654\n",
      "Epoch 58/60\n",
      "23/23 [==============================] - 0s 3ms/step - loss: 0.3361 - accuracy: 0.8706 - val_loss: 0.6317 - val_accuracy: 0.7531\n",
      "Epoch 59/60\n",
      "23/23 [==============================] - 0s 3ms/step - loss: 0.3206 - accuracy: 0.8838 - val_loss: 0.6633 - val_accuracy: 0.7531\n",
      "Epoch 60/60\n",
      "23/23 [==============================] - 0s 3ms/step - loss: 0.3356 - accuracy: 0.8640 - val_loss: 0.6870 - val_accuracy: 0.7531\n"
     ]
    },
    {
     "data": {
      "text/plain": [
       "<keras.src.callbacks.History at 0x21a9488ed90>"
      ]
     },
     "execution_count": 54,
     "metadata": {},
     "output_type": "execute_result"
    }
   ],
   "source": [
    "batch = 20\n",
    "\n",
    "model.fit(x_train_scaled, y_train, epochs = 60, batch_size = batch, validation_data = (x_test_array, y_test), verbose = 1)"
   ]
  },
  {
   "cell_type": "code",
   "execution_count": 55,
   "id": "6c61e489",
   "metadata": {},
   "outputs": [
    {
     "name": "stdout",
     "output_type": "stream",
     "text": [
      "3/3 [==============================] - 0s 3ms/step - loss: 0.6870 - accuracy: 0.7531\n"
     ]
    },
    {
     "data": {
      "text/plain": [
       "[0.686983585357666, 0.7530864477157593]"
      ]
     },
     "execution_count": 55,
     "metadata": {},
     "output_type": "execute_result"
    }
   ],
   "source": [
    "model.evaluate(x_test_array, y_test)"
   ]
  },
  {
   "cell_type": "markdown",
   "id": "f3b20752",
   "metadata": {},
   "source": [
    "# Saving the Deep learning Model"
   ]
  },
  {
   "cell_type": "code",
   "execution_count": 56,
   "id": "049e1a71",
   "metadata": {},
   "outputs": [
    {
     "name": "stdout",
     "output_type": "stream",
     "text": [
      "INFO:tensorflow:Assets written to: Diabetes_Prediction_Model.pkl\\assets\n"
     ]
    },
    {
     "name": "stderr",
     "output_type": "stream",
     "text": [
      "INFO:tensorflow:Assets written to: Diabetes_Prediction_Model.pkl\\assets\n"
     ]
    }
   ],
   "source": [
    "model.save('Diabetes_Prediction_Model.pkl')"
   ]
  },
  {
   "cell_type": "code",
   "execution_count": null,
   "id": "ec054bd5",
   "metadata": {},
   "outputs": [],
   "source": []
  }
 ],
 "metadata": {
  "kernelspec": {
   "display_name": "Python 3 (ipykernel)",
   "language": "python",
   "name": "python3"
  },
  "language_info": {
   "codemirror_mode": {
    "name": "ipython",
    "version": 3
   },
   "file_extension": ".py",
   "mimetype": "text/x-python",
   "name": "python",
   "nbconvert_exporter": "python",
   "pygments_lexer": "ipython3",
   "version": "3.11.3"
  }
 },
 "nbformat": 4,
 "nbformat_minor": 5
}
